{
 "cells": [
  {
   "cell_type": "markdown",
   "metadata": {},
   "source": [
    "# Programming Assignment 5 - Logistic Regression \n",
    "\n",
    "In the assignment, you will use gradient ascent to find the weights for the logistic regression problem.   \n",
    "\n",
    "As an example, we will use the widely-used breast cancer data set.  This data set is described here:\n",
    "\n",
    "https://archive.ics.uci.edu/ml/machine-learning-databases/breast-cancer-wisconsin\n",
    "\n",
    "Each sample is a collection of features that were manually recorded by a physician upon inspecting a sample of cells from fine needle aspiration.  The goal is to detect if the cells are benign or malignant."
   ]
  },
  {
   "cell_type": "markdown",
   "metadata": {},
   "source": [
    "## Step 1:  Getting, preprocessing, and understanding the dataset"
   ]
  },
  {
   "cell_type": "markdown",
   "metadata": {},
   "source": [
    "### Importing the standard libraries"
   ]
  },
  {
   "cell_type": "code",
   "execution_count": 1,
   "metadata": {},
   "outputs": [],
   "source": [
    "# Importing important libraries\n",
    "from sklearn.datasets import load_breast_cancer # taking included data set from Sklearn http://scikit-learn.org/stable/modules/generated/sklearn.datasets.load_breast_cancer.html\n",
    "from sklearn import preprocessing # preprossing is what we do with the data before we run the learning algorithm\n",
    "from sklearn.model_selection import train_test_split \n",
    "import numpy as np\n",
    "import math\n",
    "\n",
    "import matplotlib.pyplot as plt\n",
    "%matplotlib inline"
   ]
  },
  {
   "cell_type": "markdown",
   "metadata": {},
   "source": [
    "### Importing the dataset"
   ]
  },
  {
   "cell_type": "code",
   "execution_count": 2,
   "metadata": {},
   "outputs": [],
   "source": [
    "# Loading the dataset\n",
    "cancer = load_breast_cancer()\n",
    "y = cancer.target\n",
    "X = cancer.data"
   ]
  },
  {
   "cell_type": "code",
   "execution_count": 3,
   "metadata": {},
   "outputs": [
    {
     "name": "stdout",
     "output_type": "stream",
     "text": [
      "(569, 30)\n",
      "(569,)\n"
     ]
    }
   ],
   "source": [
    "# Printing the shape of data (X) and target (Y) values \n",
    "print(X.shape)\n",
    "print(y.shape)"
   ]
  },
  {
   "cell_type": "markdown",
   "metadata": {},
   "source": [
    "### Data Pre-Processing\n",
    "#### Splitting the data into train and test before scaling the dataset\n"
   ]
  },
  {
   "cell_type": "code",
   "execution_count": 4,
   "metadata": {},
   "outputs": [],
   "source": [
    "# train_test_split to split the data \n",
    "X_train, X_test, y_train, y_test = train_test_split(X, y)"
   ]
  },
  {
   "cell_type": "markdown",
   "metadata": {},
   "source": [
    "#### Scale the data since we will be using gradient ascent"
   ]
  },
  {
   "cell_type": "code",
   "execution_count": 5,
   "metadata": {},
   "outputs": [],
   "source": [
    "scaler = preprocessing.StandardScaler().fit(X_train)\n",
    "X_train = scaler.transform(X_train)\n",
    "X_test = scaler.transform(X_test)"
   ]
  },
  {
   "cell_type": "code",
   "execution_count": 6,
   "metadata": {},
   "outputs": [
    {
     "name": "stdout",
     "output_type": "stream",
     "text": [
      "(426, 30)\n",
      "(426,)\n"
     ]
    }
   ],
   "source": [
    "# TODO - Print the shape of x_train and y_train \n",
    "print(X_train.shape) # It should print (426, 30)\n",
    "print(y_train.shape) # It should print (426,)"
   ]
  },
  {
   "cell_type": "markdown",
   "metadata": {},
   "source": [
    "#### Adding a column of ones to the  matrices $X_{train}$ and  $X_{test}$\n",
    "After adding a column of ones $X_{train}=\\left[\\begin{matrix}\n",
    "1& x^{(1)}_1& x^{(1)}_2 &\\ldots& x^{(1)}_d\\\\\n",
    "1& x^{(2)}_1& x^{(2)}_2 &\\ldots& x^{(2)}_d\\\\\n",
    "\\vdots & \\vdots &\\vdots & & \\vdots \\\\\n",
    "1& x^{(N')}_1& x^{(N')}_2 &\\ldots& x^{(N')}_d\\\\\n",
    "\\end{matrix}\\right]$\n",
    "\n",
    "Similarly for $X_{test}$"
   ]
  },
  {
   "cell_type": "code",
   "execution_count": 7,
   "metadata": {},
   "outputs": [
    {
     "name": "stdout",
     "output_type": "stream",
     "text": [
      "The trainng data has dimensions:  (426, 31) . The testing data has dimensions:  (143, 31)\n",
      "[[ 1.00000000e+00  1.46331209e+00  1.68638161e+00  1.58715569e+00\n",
      "   1.41265260e+00  1.80544703e+00  1.49935249e+00  1.42945531e+00\n",
      "   2.60551001e+00 -6.29235332e-01  1.40240670e+00  4.60043791e-01\n",
      "   2.91926283e+00  1.55970126e+00  6.74155654e-01  1.42559660e-01\n",
      "   1.99820298e+00 -3.41971877e-01  1.14660827e+00  1.18340201e+00\n",
      "   2.90899493e+00  8.99959993e-01  1.15683502e+00  1.08326867e+00\n",
      "   7.97092645e-01  3.46006846e-01  2.19309143e-01 -8.23600439e-02\n",
      "   1.11505690e+00 -9.14268309e-01  4.78144553e-01]\n",
      " [ 1.00000000e+00 -2.27357432e-01  6.34189045e-01 -2.22983221e-01\n",
      "  -3.11266892e-01  9.03544918e-02  6.01541354e-02 -2.67994276e-02\n",
      "   1.38904838e-01 -2.13301886e-01 -1.30237396e-01 -7.55244281e-01\n",
      "  -1.08630153e+00 -7.55031930e-01 -5.72742253e-01 -1.17306477e+00\n",
      "  -6.16273619e-01 -5.94725433e-01 -7.80425179e-01 -1.15457856e+00\n",
      "  -8.63380850e-01  4.20801226e-02  7.03632852e-01  6.23996558e-04\n",
      "  -2.02710844e-01  8.24008503e-01  8.94917488e-01  5.40699442e-01\n",
      "   7.58605322e-01  1.29951392e+00  7.06706645e-01]]\n"
     ]
    }
   ],
   "source": [
    "# Append a column of ones to x_train \n",
    "\n",
    "# Step 1: Create a column vector of ones (i.e. a vector of shape N',1)\n",
    "ones = np.ones(X_train.shape[0]).reshape((X_train.shape[0], 1))\n",
    "# Step 2: Append a column of ones in the beginning of x_train\n",
    "X_train = np.hstack((ones, X_train))\n",
    "\n",
    "# Now do the same for the test data\n",
    "# Step 1: Create a column vector of ones (i.e. a vector of shape N\",1)\n",
    "ones = np.ones(X_test.shape[0]).reshape((X_test.shape[0], 1))\n",
    "# Stemp 2: Append a column of ones in the beginning of x_test\n",
    "X_test = np.hstack((ones, X_test))\n",
    "\n",
    "\n",
    "# We can check that everything worked correctly by:\n",
    "# Printing out the new dimensions\n",
    "print(\"The trainng data has dimensions: \", X_train.shape, \". The testing data has dimensions: \",X_test.shape)\n",
    "# Looking at the first two rows of X_train to check everything worked as expected\n",
    "print(X_train[0:2])"
   ]
  },
  {
   "cell_type": "markdown",
   "metadata": {},
   "source": [
    "### Understanding the dataset"
   ]
  },
  {
   "cell_type": "code",
   "execution_count": 8,
   "metadata": {},
   "outputs": [
    {
     "name": "stdout",
     "output_type": "stream",
     "text": [
      "['mean radius' 'mean texture' 'mean perimeter' 'mean area'\n",
      " 'mean smoothness' 'mean compactness' 'mean concavity'\n",
      " 'mean concave points' 'mean symmetry' 'mean fractal dimension'\n",
      " 'radius error' 'texture error' 'perimeter error' 'area error'\n",
      " 'smoothness error' 'compactness error' 'concavity error'\n",
      " 'concave points error' 'symmetry error' 'fractal dimension error'\n",
      " 'worst radius' 'worst texture' 'worst perimeter' 'worst area'\n",
      " 'worst smoothness' 'worst compactness' 'worst concavity'\n",
      " 'worst concave points' 'worst symmetry' 'worst fractal dimension']\n"
     ]
    }
   ],
   "source": [
    "# Printing the names of all the features\n",
    "print(cancer.feature_names)"
   ]
  },
  {
   "cell_type": "code",
   "execution_count": 9,
   "metadata": {},
   "outputs": [],
   "source": [
    "# You can add your own code here to better understand the dataset"
   ]
  },
  {
   "cell_type": "markdown",
   "metadata": {},
   "source": [
    "\n",
    "# Step 2: Fitting the model\n",
    "## Implementing Logistic Regression Using Gradient Ascent"
   ]
  },
  {
   "cell_type": "markdown",
   "metadata": {},
   "source": [
    "\n",
    " Before writing the gradient ascent code, first write some helpful functions"
   ]
  },
  {
   "cell_type": "markdown",
   "metadata": {},
   "source": [
    "\n",
    " \n",
    "### Sigmoid($z$)\n",
    "The first function you will write is sigmoid($z$)\n",
    "\n",
    "sigmoid($z$) takes as input a column vector of real numbers, $z^T = [z_1, z_2, ..., z_{N'}]$, where $N'$ is the number of  examples\n",
    "\n",
    "It should produce as output a column vector $\\left[\\frac{1}{1+e^{-z_1}},\\frac{1}{1+e^{-z_2}},...,\\frac{1}{1+e^{-z_{N'}}}\\right]^T$"
   ]
  },
  {
   "cell_type": "code",
   "execution_count": 10,
   "metadata": {},
   "outputs": [],
   "source": [
    "# TODO - Write the sigmoid function\n",
    "def sigmoid(z):\n",
    "    sig=1 / (1+np.exp((-z)))\n",
    "    return  sig"
   ]
  },
  {
   "cell_type": "code",
   "execution_count": 11,
   "metadata": {},
   "outputs": [
    {
     "name": "stdout",
     "output_type": "stream",
     "text": [
      "0.5\n"
     ]
    }
   ],
   "source": [
    "# VERIFY - Sigmoid of 0 should be equal to half\n",
    "print(sigmoid(0))"
   ]
  },
  {
   "cell_type": "markdown",
   "metadata": {},
   "source": [
    "### Initializing ${\\bf w}$\n",
    "For testing the next functions, we create a coefficient vector, ${\\bf w}$.\n",
    "We will initialize the coeffients to be $0$, i.e. ${\\bf w}^T = [0,0,\\ldots ,0]$ (We could have initialized ${\\bf w}$ to any values.)"
   ]
  },
  {
   "cell_type": "code",
   "execution_count": 12,
   "metadata": {},
   "outputs": [
    {
     "name": "stdout",
     "output_type": "stream",
     "text": [
      "(31, 1)\n"
     ]
    }
   ],
   "source": [
    "# Initialize parameters w\n",
    "w = np.zeros((X_train.shape[1], 1))\n",
    "print(w.shape)"
   ]
  },
  {
   "cell_type": "markdown",
   "metadata": {},
   "source": [
    "### Our hypothesis, $h({\\bf x})$\n",
    "The next  function to write is our hypothesis function. \n",
    "\n",
    "For example if our design matrix $X$ consists of single example $X=[1,x_1,x_2,\\ldots,x_d]$ and  weights ${\\bf w}^T=[w_0,w_2,\\ldots, w_d]$, it returns $h({\\bf x})=\\frac{1}{1+e^{-\\left({w_{0}\\cdot 1 +w_1\\cdot x_1+\\cdots w_d\\cdot x_d}\\right)}}$\n",
    "\n",
    "If given a  matrix consisting of $N'$ examples \n",
    "$X=\\left[\\begin{matrix}\n",
    "1& x^{(1)}_1& x^{(1)}_2 &\\ldots& x^{(1)}_d\\\\\n",
    "1& x^{(2)}_1& x^{(2)}_2 &\\ldots& x^{(2)}_d\\\\\n",
    "\\vdots & \\vdots &\\vdots & & \\vdots \\\\\n",
    "1& x^{(N')}_1& x^{(N')}_2 &\\ldots& x^{(N')}_d\\\\\n",
    "\\end{matrix}\\right]$\n",
    "and  weights ${\\bf w}^T=[w_0,w_2,\\ldots, w_d]$, the function returns a column vector\n",
    "$[h({\\bf x}^{(1)}),h({\\bf x}^{(2)},\\ldots, h({\\bf x}^{(N')}]^T$"
   ]
  },
  {
   "cell_type": "code",
   "execution_count": 13,
   "metadata": {},
   "outputs": [],
   "source": [
    "# predict the probability that a patient has cancer \n",
    "# TODO - Write the hypothesis function \n",
    "def hypothesis(X , w):\n",
    "    #TODO\n",
    "    #hyp = np.array([])\n",
    "    z= np.dot(X,w)\n",
    "    hyp=sigmoid(z)\n",
    "    return hyp\n",
    "    ##"
   ]
  },
  {
   "cell_type": "markdown",
   "metadata": {},
   "source": [
    "Before moving on, do a quick check that your function can accpet a matrix as an argument. "
   ]
  },
  {
   "cell_type": "code",
   "execution_count": 14,
   "metadata": {},
   "outputs": [
    {
     "name": "stdout",
     "output_type": "stream",
     "text": [
      "(426, 1)\n",
      "(426,)\n"
     ]
    }
   ],
   "source": [
    "# Compute y_hat using our training examples and w (w is still set to zero).  \n",
    "# This is just a preliminary test of the hypotheis function\n",
    "yhat = hypothesis(X_train, w)\n",
    "\n",
    "# print the sizes of yhat and y as a first check that the function performed correctly\n",
    "print(yhat.shape) # this should return (426, 1)\n",
    "print(y_train.shape) # this should return (426,)"
   ]
  },
  {
   "cell_type": "markdown",
   "metadata": {},
   "source": [
    "### Log-Likelihood Function.\n",
    "Write the code to calculate the log likelihood function $\\ell({\\bf w})=\n",
    "\\sum_{i=1}^{N'}y^{(i)}\\ln(h({\\bf x}^{(i)})) +(1- y^{(i)})\\ln(1-h({\\bf x}^{(i)}))$\n",
    "\n",
    "The input is a matrix consisting of $N'$ examples $X=\\left[\\begin{matrix}\n",
    "1& x^{(1)}_1& x^{(1)}_2 &\\ldots& x^{(1)}_d\\\\\n",
    "1& x^{(2)}_1& x^{(2)}_2 &\\ldots& x^{(2)}_d\\\\\n",
    "\\vdots & \\vdots &\\vdots & & \\vdots \\\\\n",
    "1& x^{(N')}_1& x^{(N')}_2 &\\ldots& x^{(N')}_d\\\\\n",
    "\\end{matrix}\\right]$\n",
    "and a column vector ${\\bf y}^T=[y^{(1)},y^{(2)},\\dots,y^{(N')}]$ of labels for $X$.\n",
    "\n",
    "The output is $\\ell({\\bf w})$"
   ]
  },
  {
   "cell_type": "code",
   "execution_count": 15,
   "metadata": {},
   "outputs": [],
   "source": [
    "# TODO - Write the log likelihood function \n",
    "def log_likelihood(X , y , w ):\n",
    "    \n",
    "    a=(y*np.log(hypothesis(X, w))) + ((1-y)*(np.log(1-hypothesis(X, w))))\n",
    "    log_likelihood = np.sum(a,axis=1)\n",
    "    \n",
    "    return log_likelihood[0]"
   ]
  },
  {
   "cell_type": "markdown",
   "metadata": {},
   "source": [
    "Before moving on, do a quick check of your log_likelihood funciotn"
   ]
  },
  {
   "cell_type": "code",
   "execution_count": 16,
   "metadata": {},
   "outputs": [
    {
     "name": "stdout",
     "output_type": "stream",
     "text": [
      "-295.2806989185367\n"
     ]
    }
   ],
   "source": [
    "# VERIFY - The value should be equal to -295.2806989185367.\n",
    "print(log_likelihood(X_train,y_train,w))"
   ]
  },
  {
   "cell_type": "markdown",
   "metadata": {},
   "source": [
    "# Gradient Ascent\n",
    "Now write the code to perform gradient ascent.  You will use the update rule from the lecture notes."
   ]
  },
  {
   "cell_type": "code",
   "execution_count": 17,
   "metadata": {},
   "outputs": [],
   "source": [
    "# TODO - Write the gradient ascent function \n",
    "def Logistic_Regresion_Gradient_Ascent(X, y, learning_rate, num_iters):\n",
    "    # For every 100 iterations, store the log_likelihood for the current w\n",
    "    # Initializing log_likelihood to be an empty list  \n",
    "    log_likelihood_values = []\n",
    "    # Initialize w to be a zero vector of shape x_train.shape[1],1\n",
    "    w = np.zeros((X.shape[1], 1))\n",
    "    # Initialize N to the number of training examples\n",
    "    N = X.shape[0] \n",
    "    ## TODO \n",
    "    \n",
    "    for i in range(num_iters):\n",
    "        ynew = y\n",
    "        X_w = np.dot(X, w)\n",
    "        s = sigmoid(X_w)\n",
    "        f=ynew.reshape(-1,1)\n",
    "        gradient = np.dot(X.T,(f-s))\n",
    "        w = w + (learning_rate * gradient)\n",
    "        \n",
    "    ##\n",
    "        if (i % 100) == 0:\n",
    "            log_likelihood_values.append(log_likelihood(X,y,w))\n",
    "        \n",
    "    return w, log_likelihood_values"
   ]
  },
  {
   "cell_type": "markdown",
   "metadata": {},
   "source": [
    "### After completing the code above, run the following"
   ]
  },
  {
   "cell_type": "code",
   "execution_count": 22,
   "metadata": {},
   "outputs": [
    {
     "name": "stderr",
     "output_type": "stream",
     "text": [
      "/Users/sunidhibrajesh/anaconda3/lib/python3.7/site-packages/ipykernel_launcher.py:4: RuntimeWarning: divide by zero encountered in log\n",
      "  after removing the cwd from sys.path.\n",
      "/Users/sunidhibrajesh/anaconda3/lib/python3.7/site-packages/ipykernel_launcher.py:4: RuntimeWarning: invalid value encountered in multiply\n",
      "  after removing the cwd from sys.path.\n"
     ]
    },
    {
     "name": "stdout",
     "output_type": "stream",
     "text": [
      "[[  -4.86263875]\n",
      " [  92.25325822]\n",
      " [ -14.9862132 ]\n",
      " [  20.80738842]\n",
      " [-106.59138   ]\n",
      " [ -20.74934303]\n",
      " [ 140.88152527]\n",
      " [ -84.67305367]\n",
      " [ -15.13866242]\n",
      " [  27.35542281]\n",
      " [ -39.36335108]\n",
      " [-105.02075163]\n",
      " [  17.75592838]\n",
      " [   7.00054087]\n",
      " [   8.44339981]\n",
      " [   8.92638766]\n",
      " [ -64.13776102]\n",
      " [  84.02372348]\n",
      " [ -52.69749431]\n",
      " [  26.51675862]\n",
      " [  24.49580053]\n",
      " [  36.16121494]\n",
      " [ -34.53715927]\n",
      " [   2.27957589]\n",
      " [-138.92282797]\n",
      " [ -14.41423584]\n",
      " [   8.3512868 ]\n",
      " [ -68.13611986]\n",
      " [ -52.46420019]\n",
      " [ -54.23303766]\n",
      " [  40.95013667]]\n",
      "[nan, -53263.27082151537, -47710.680801163224, -49155.65963301662, -48860.039053040906, -47267.17140388859, -46387.7391169663, -47861.955697230296, -51655.24743835429, -57952.64634693262, -48703.57600004545, -50795.577578266166, -50524.09666611697, -48122.03680293658, -51454.565673869816, -55690.078603996386, -51400.53885567298, -54118.35733253765, -50441.268136468556, -51564.7954119977, -56200.54636020546, -52370.73685501833, -52749.13609567408, -53912.908471646995, -58966.66320815224, -56000.95693950221, -54445.55950956554, -58073.51378340508, -55293.32462174847, -57820.85032000812, -57445.031017910835, -58392.62452347773, -59484.39371582049, -61379.56465361148, -57576.12427530037, -58199.75991700431, -60759.92959162807, -60579.61361802065, -65250.78098677561, -60550.47374320697, -61168.471425572105, -58361.28489633726, -58910.29093613489, -60093.042584348754, -59942.79532456036, -68948.44381617573, -61069.32930710402, -63107.8894217935, -60488.78976624233, -61511.03380635247, -61219.14422742993, -64643.53198767151, -67491.76292815976, -62867.468524881246, -65189.63170170126, -59594.36182275449, -62695.60735156677, -63558.62160446371, -68820.24208784221, -62477.94680338596, -65626.9557645011, -67133.98524385117, -66441.8678843364, -70114.04148654448, -65365.995527320134, -67907.28044681749, -66971.22024878536, -65716.1148903418, -68138.44042032125, -66708.50636288038, -70887.10534111224, -70752.9402788209, -65877.58953046358, -64507.127813025654, -69004.8044161094, -66958.66482636622, -66895.23942845553, -69564.73903292391, -75899.53234963474, -68170.30963577528, -68392.03397987803, -68221.44917013653, -68481.90262075025, -79379.28205586846, -70261.30951274537, -71570.60414983069, -81165.01694186439, -69766.5291493983, -72569.17787986987, -69893.52784158608, -70826.76111767197, -72018.57925480194, -76340.69548132144, -73897.85947235842, -75654.58582201911, -71257.54381081008, -75284.89843894124, -73241.55898680867, -73245.86133991022, -77682.04052181069]\n"
     ]
    }
   ],
   "source": [
    "learning_rate = 0.5\n",
    "num_iters = 10000 # The number of iteratins to run the gradient ascent algorithm\n",
    "\n",
    "w, log_likelihood_values = Logistic_Regresion_Gradient_Ascent(X_train, y_train, learning_rate, num_iters)\n",
    "print(w)\n",
    "print(log_likelihood_values)"
   ]
  },
  {
   "cell_type": "markdown",
   "metadata": {},
   "source": [
    "# Plotting Likelihood v/s Number of Iterations."
   ]
  },
  {
   "cell_type": "code",
   "execution_count": 19,
   "metadata": {},
   "outputs": [
    {
     "data": {
      "image/png": "[encoded data removed]",
      "text/plain": [
       "<Figure size 432x288 with 1 Axes>"
      ]
     },
     "metadata": {
      "needs_background": "light"
     },
     "output_type": "display_data"
    }
   ],
   "source": [
    "# Run this cell to plot Likelihood v/s Number of Iterations.\n",
    "iters = np.array(range(0,num_iters,100))\n",
    "plt.plot(iters,log_likelihood_values,'.-',color='green')\n",
    "plt.xlabel('Number of iterations')\n",
    "plt.ylabel('Likelihood')\n",
    "plt.title(\"Likelihood vs Number of Iterations.\")\n",
    "plt.grid()"
   ]
  },
  {
   "cell_type": "markdown",
   "metadata": {},
   "source": [
    "You should see the likelihood increasing as number of Iterations increase."
   ]
  },
  {
   "cell_type": "markdown",
   "metadata": {},
   "source": [
    "### The rest of your code goes here"
   ]
  },
  {
   "cell_type": "code",
   "execution_count": 20,
   "metadata": {},
   "outputs": [
    {
     "name": "stdout",
     "output_type": "stream",
     "text": [
      "hypothesis for test data: [[1.00000000e+000]\n",
      " [1.00000000e+000]\n",
      " [1.00000000e+000]\n",
      " [1.00000000e+000]\n",
      " [3.39851212e-078]\n",
      " [1.00000000e+000]\n",
      " [1.00000000e+000]\n",
      " [5.24727199e-015]\n",
      " [1.28935203e-205]\n",
      " [1.00000000e+000]\n",
      " [1.75618383e-192]\n",
      " [1.00000000e+000]\n",
      " [5.38748167e-161]\n",
      " [1.00000000e+000]\n",
      " [8.93276852e-001]\n",
      " [1.00000000e+000]\n",
      " [1.17306934e-098]\n",
      " [1.00000000e+000]\n",
      " [1.97862791e-186]\n",
      " [2.92525942e-052]\n",
      " [1.00000000e+000]\n",
      " [0.00000000e+000]\n",
      " [1.00000000e+000]\n",
      " [1.00000000e+000]\n",
      " [1.00000000e+000]\n",
      " [1.00000000e+000]\n",
      " [1.00000000e+000]\n",
      " [3.82255183e-049]\n",
      " [3.85727796e-295]\n",
      " [1.14313709e-019]\n",
      " [1.00000000e+000]\n",
      " [9.29649221e-266]\n",
      " [9.99999473e-001]\n",
      " [1.00000000e+000]\n",
      " [1.00000000e+000]\n",
      " [1.00000000e+000]\n",
      " [2.93528863e-132]\n",
      " [1.00000000e+000]\n",
      " [1.00000000e+000]\n",
      " [1.00000000e+000]\n",
      " [0.00000000e+000]\n",
      " [2.25281014e-044]\n",
      " [1.00000000e+000]\n",
      " [1.18573716e-243]\n",
      " [1.00000000e+000]\n",
      " [1.00000000e+000]\n",
      " [5.68868571e-209]\n",
      " [1.00000000e+000]\n",
      " [1.00000000e+000]\n",
      " [1.53615900e-150]\n",
      " [1.00000000e+000]\n",
      " [1.00000000e+000]\n",
      " [2.01804029e-060]\n",
      " [1.00000000e+000]\n",
      " [1.33593918e-060]\n",
      " [1.00000000e+000]\n",
      " [1.00000000e+000]\n",
      " [1.00000000e+000]\n",
      " [8.80835962e-129]\n",
      " [1.00000000e+000]\n",
      " [1.00000000e+000]\n",
      " [1.00000000e+000]\n",
      " [1.06311787e-205]\n",
      " [5.75422864e-003]\n",
      " [3.23855063e-093]\n",
      " [1.00000000e+000]\n",
      " [1.00000000e+000]\n",
      " [1.00000000e+000]\n",
      " [1.40122386e-119]\n",
      " [0.00000000e+000]\n",
      " [1.00000000e+000]\n",
      " [1.00000000e+000]\n",
      " [3.22234071e-019]\n",
      " [1.04763256e-064]\n",
      " [1.00000000e+000]\n",
      " [3.52023171e-092]\n",
      " [3.81939639e-069]\n",
      " [0.00000000e+000]\n",
      " [1.00000000e+000]\n",
      " [1.00000000e+000]\n",
      " [1.00000000e+000]\n",
      " [9.99403602e-001]\n",
      " [1.00000000e+000]\n",
      " [1.00000000e+000]\n",
      " [1.78866753e-013]\n",
      " [1.00000000e+000]\n",
      " [1.00000000e+000]\n",
      " [1.00000000e+000]\n",
      " [1.00000000e+000]\n",
      " [8.22358333e-230]\n",
      " [1.00000000e+000]\n",
      " [1.00000000e+000]\n",
      " [1.00000000e+000]\n",
      " [3.49521258e-164]\n",
      " [4.03763575e-053]\n",
      " [1.00000000e+000]\n",
      " [4.85571244e-110]\n",
      " [1.16481481e-269]\n",
      " [4.75301290e-172]\n",
      " [6.99798675e-152]\n",
      " [2.50499065e-153]\n",
      " [1.00000000e+000]\n",
      " [2.67737582e-089]\n",
      " [1.00000000e+000]\n",
      " [3.93269535e-173]\n",
      " [1.06855917e-033]\n",
      " [4.39020800e-256]\n",
      " [1.00000000e+000]\n",
      " [4.10503510e-302]\n",
      " [1.03353647e-152]\n",
      " [1.28567987e-283]\n",
      " [1.00000000e+000]\n",
      " [6.33658048e-136]\n",
      " [1.37069390e-108]\n",
      " [1.00000000e+000]\n",
      " [1.00000000e+000]\n",
      " [1.00000000e+000]\n",
      " [5.92147636e-193]\n",
      " [4.22016184e-191]\n",
      " [1.00000000e+000]\n",
      " [1.00000000e+000]\n",
      " [1.00000000e+000]\n",
      " [8.93232494e-070]\n",
      " [1.00000000e+000]\n",
      " [1.16617331e-055]\n",
      " [1.00000000e+000]\n",
      " [1.38137138e-040]\n",
      " [1.00000000e+000]\n",
      " [1.00000000e+000]\n",
      " [1.00000000e+000]\n",
      " [3.26063465e-153]\n",
      " [6.01832108e-046]\n",
      " [1.00000000e+000]\n",
      " [1.00000000e+000]\n",
      " [1.00000000e+000]\n",
      " [1.24084152e-247]\n",
      " [6.90680990e-144]\n",
      " [9.99998446e-001]\n",
      " [6.67560193e-032]\n",
      " [3.32106270e-192]\n",
      " [4.68555419e-100]\n",
      " [6.17640496e-106]\n",
      " [1.00000000e+000]]\n",
      "lenhth of y_test: 143\n"
     ]
    }
   ],
   "source": [
    "# predicting the class for test data \n",
    "h_test = hypothesis(X_test, w)\n",
    "predicted=np.array([])\n",
    "print (\"hypothesis for test data:\",h_test)\n",
    "print(\"lenhth of y_test:\",len(y_test))\n",
    "for i in range(len(y_test)):\n",
    "    if h_test[i]>=0.5:\n",
    "        predicted=np.append(predicted,1)\n",
    "    else:\n",
    "        predicted=np.append(predicted,0)"
   ]
  },
  {
   "cell_type": "markdown",
   "metadata": {},
   "source": [
    "# Step 3: Evaluating your model"
   ]
  },
  {
   "cell_type": "code",
   "execution_count": 21,
   "metadata": {},
   "outputs": [
    {
     "name": "stdout",
     "output_type": "stream",
     "text": [
      "Recall is: 0.9871794871794872\n",
      "Precision is: 0.9625\n",
      "F1 score is: 0.9746835443037976\n",
      "Confusion matrix: [[77  3]\n",
      " [ 1 62]]\n"
     ]
    }
   ],
   "source": [
    "TP=0\n",
    "FP=0\n",
    "FN=0\n",
    "TN=0\n",
    "# calulating recall-\n",
    "for i in range(len(y_test)):\n",
    "    if y_test[i]==1 and predicted[i]==1:\n",
    "        TP=TP+1\n",
    "    elif y_test[i]==0 and predicted[i]==1:\n",
    "        FP=FP+1\n",
    "    elif y_test[i]==1 and predicted[i]==0:\n",
    "        FN=FN+1\n",
    "    elif y_test[i]==0 and predicted[i]==0:\n",
    "        TN=TN+1\n",
    "        \n",
    "\n",
    "Recall = TP / (TP+FN)\n",
    "print (\"Recall is:\",Recall)\n",
    "\n",
    "Precision = TP / (TP+FP)\n",
    "print (\"Precision is:\",Precision)\n",
    "\n",
    "F1score = 2 * ((Precision*Recall) / (Precision+Recall))\n",
    "print(\"F1 score is:\",F1score)\n",
    "\n",
    "confusion_matrix = np.array([[TP,FP],[FN,TN]])\n",
    "print(\"Confusion matrix:\",confusion_matrix)\n"
   ]
  },
  {
   "cell_type": "code",
   "execution_count": null,
   "metadata": {},
   "outputs": [],
   "source": []
  },
  {
   "cell_type": "code",
   "execution_count": null,
   "metadata": {},
   "outputs": [],
   "source": []
  },
  {
   "cell_type": "code",
   "execution_count": null,
   "metadata": {},
   "outputs": [],
   "source": []
  }
 ],
 "metadata": {
  "kernelspec": {
   "display_name": "Python 3",
   "language": "python",
   "name": "python3"
  },
  "language_info": {
   "codemirror_mode": {
    "name": "ipython",
    "version": 3
   },
   "file_extension": ".py",
   "mimetype": "text/x-python",
   "name": "python",
   "nbconvert_exporter": "python",
   "pygments_lexer": "ipython3",
   "version": "3.7.3"
  }
 },
 "nbformat": 4,
 "nbformat_minor": 2
}
